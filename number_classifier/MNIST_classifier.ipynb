{
 "cells": [
  {
   "cell_type": "code",
   "execution_count": 2,
   "metadata": {},
   "outputs": [],
   "source": [
    "import tensorflow as tf\n",
    "\n"
   ]
  },
  {
   "cell_type": "code",
   "execution_count": 21,
   "metadata": {},
   "outputs": [
    {
     "name": "stdout",
     "output_type": "stream",
     "text": [
      "Epoch 1/3\n",
      "60000/60000 [==============================] - 8s 140us/sample - loss: 0.2597 - acc: 0.9239\n",
      "Epoch 2/3\n",
      "60000/60000 [==============================] - 7s 119us/sample - loss: 0.1041 - acc: 0.9679\n",
      "Epoch 3/3\n",
      "60000/60000 [==============================] - 8s 138us/sample - loss: 0.0716 - acc: 0.9768\n"
     ]
    },
    {
     "data": {
      "text/plain": [
       "<tensorflow.python.keras.callbacks.History at 0x62cd1d210>"
      ]
     },
     "execution_count": 21,
     "metadata": {},
     "output_type": "execute_result"
    }
   ],
   "source": [
    "mnist = tf.keras.datasets.mnist #28x28 images of hand drawn numbers\n",
    "\n",
    "(x_train, y_train), (x_test, y_test) = mnist.load_data()\n",
    "\n",
    "x_train = tf.keras.utils.normalize(x_train, axis=1)\n",
    "x_test = tf.keras.utils.normalize(x_test, axis=1)\n",
    "\n",
    "model = tf.keras.models.Sequential()\n",
    "model.add(tf.keras.layers.Flatten(input_shape=(28, 28)))\n",
    "model.add(tf.keras.layers.Dense(128, activation=tf.nn.relu))\n",
    "model.add(tf.keras.layers.Dense(128, activation=tf.nn.relu))\n",
    "model.add(tf.keras.layers.Dense(10, activation=tf.nn.softmax))\n",
    "          \n",
    "model.compile(optimizer='adam',\n",
    "             loss='sparse_categorical_crossentropy',\n",
    "             metrics=['accuracy'])\n",
    "model.fit(x_train, y_train, epochs=3)"
   ]
  },
  {
   "cell_type": "code",
   "execution_count": 15,
   "metadata": {},
   "outputs": [
    {
     "name": "stdout",
     "output_type": "stream",
     "text": [
      "10000/10000 [==============================] - 1s 59us/sample - loss: 0.0914 - acc: 0.9719\n",
      "0.09137611124152317 0.9719\n"
     ]
    }
   ],
   "source": [
    "val_loss, val_acc = model.evaluate(x_test, y_test)\n",
    "print(val_loss, val_acc)"
   ]
  },
  {
   "cell_type": "code",
   "execution_count": 11,
   "metadata": {},
   "outputs": [
    {
     "data": {
      "image/png": "[encoded data removed]",
      "text/plain": [
       "<Figure size 432x288 with 1 Axes>"
      ]
     },
     "metadata": {
      "needs_background": "light"
     },
     "output_type": "display_data"
    }
   ],
   "source": [
    "import matplotlib.pyplot as plt\n",
    "\n",
    "plt.imshow(x_train[0], cmap = plt.cm.binary)\n",
    "#print(x_train[0])\n",
    "plt.show()"
   ]
  },
  {
   "cell_type": "code",
   "execution_count": 16,
   "metadata": {},
   "outputs": [],
   "source": [
    "model.save('num_reader.model')"
   ]
  },
  {
   "cell_type": "code",
   "execution_count": null,
   "metadata": {},
   "outputs": [],
   "source": [
    "new_model = tf.keras.models.load_model('num_reader.model')"
   ]
  },
  {
   "cell_type": "code",
   "execution_count": 24,
   "metadata": {},
   "outputs": [
    {
     "name": "stdout",
     "output_type": "stream",
     "text": [
      "[[9.0894314e-09 1.4180313e-08 8.4262529e-06 ... 9.9990261e-01\n",
      "  1.5582645e-08 3.5881359e-07]\n",
      " [5.5149271e-12 2.9927868e-04 9.9969900e-01 ... 3.1983111e-11\n",
      "  5.4870497e-08 4.0610167e-13]\n",
      " [6.4272044e-08 9.9972302e-01 3.7814752e-05 ... 6.7207191e-05\n",
      "  1.3693147e-04 2.7857584e-06]\n",
      " ...\n",
      " [1.7952157e-08 1.9512024e-08 3.3381856e-08 ... 2.0952812e-05\n",
      "  1.6116292e-06 3.9616709e-05]\n",
      " [1.0066692e-06 2.7813218e-08 8.8740872e-09 ... 9.4041699e-09\n",
      "  6.0663337e-04 2.9510747e-10]\n",
      " [1.3113429e-05 2.2510800e-09 6.6555451e-08 ... 4.7003438e-12\n",
      "  4.7475962e-07 1.1764524e-07]]\n"
     ]
    }
   ],
   "source": [
    "predictions = new_model.predict(x_test)\n",
    "\n",
    "print(predictions)"
   ]
  },
  {
   "cell_type": "code",
   "execution_count": 70,
   "metadata": {},
   "outputs": [
    {
     "name": "stdout",
     "output_type": "stream",
     "text": [
      "AI guessed:  0\n",
      "Actual number:  6\n"
     ]
    },
    {
     "data": {
      "image/png": "[encoded data removed]",
      "text/plain": [
       "<Figure size 432x288 with 1 Axes>"
      ]
     },
     "metadata": {
      "needs_background": "light"
     },
     "output_type": "display_data"
    }
   ],
   "source": [
    "import numpy as np\n",
    "\n",
    "predict=965\n",
    "\n",
    "print(\"AI guessed: \",np.argmax(predictions[predict]))\n",
    "print(\"Actual number: \", y_test[predict])\n",
    "plt.imshow(x_test[predict])\n",
    "plt.show()"
   ]
  },
  {
   "cell_type": "code",
   "execution_count": 60,
   "metadata": {},
   "outputs": [
    {
     "name": "stdout",
     "output_type": "stream",
     "text": [
      "18\n",
      "149\n",
      "217\n",
      "247\n",
      "259\n",
      "321\n",
      "340\n",
      "391\n",
      "445\n",
      "495\n",
      "522\n",
      "578\n",
      "582\n",
      "610\n",
      "619\n",
      "629\n",
      "684\n",
      "691\n",
      "720\n",
      "740\n",
      "829\n",
      "844\n",
      "882\n",
      "883\n",
      "900\n",
      "938\n",
      "947\n",
      "965\n"
     ]
    }
   ],
   "source": [
    "for num in range(1000):\n",
    "    if np.argmax(predictions[num]) != y_test[num]:\n",
    "        print(num)"
   ]
  },
  {
   "cell_type": "code",
   "execution_count": null,
   "metadata": {},
   "outputs": [],
   "source": []
  }
 ],
 "metadata": {
  "kernelspec": {
   "display_name": "Python 3",
   "language": "python",
   "name": "python3"
  },
  "language_info": {
   "codemirror_mode": {
    "name": "ipython",
    "version": 3
   },
   "file_extension": ".py",
   "mimetype": "text/x-python",
   "name": "python",
   "nbconvert_exporter": "python",
   "pygments_lexer": "ipython3",
   "version": "3.7.6"
  }
 },
 "nbformat": 4,
 "nbformat_minor": 4
}
